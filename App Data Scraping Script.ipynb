{
 "cells": [
  {
   "cell_type": "code",
   "execution_count": 1,
   "id": "af0a61c0",
   "metadata": {},
   "outputs": [
    {
     "name": "stdout",
     "output_type": "stream",
     "text": [
      "1\n"
     ]
    }
   ],
   "source": [
    "import requests\n",
    "from bs4 import BeautifulSoup\n",
    "import pandas as pd\n",
    "\n",
    "article_title = []\n",
    "article_imgurl = []\n",
    "article_url =[]\n",
    "article_date = []\n",
    "results = []\n",
    "\n",
    "url = 'https://www.downtoearth.org.in/category/energy/news'\n",
    "response = requests.get(url)\n",
    "\n",
    "soup = BeautifulSoup(response.content, 'html.parser')\n",
    "\n",
    "articles = soup.find_all('div', class_='single-news-wrapper')\n",
    "\n",
    "for article in articles:\n",
    "    #article_title.append(article.find('p', class_ = 'content-head').text.strip())\n",
    "    #article_imgurl.append(article.find('img', class_ = 'content-preview')['src'])\n",
    "    #article_url.append(article.find('a')['href'])\n",
    "    #article_date.append(article.find('div', class_ = 'pull-left content-date').text.strip())\n",
    "    #results.append({'Article Title': article_title, 'Article Link': article_url, 'Article Date':article_date, 'Article Image': article_imgurl})\n",
    "    title = article.find('p', class_ = 'content-head').text.strip()\n",
    "    imgurl = article.find('img', class_ = 'content-preview')['src']\n",
    "    url = article.find('a')['href']\n",
    "    date = article.find('div', class_ = 'pull-left content-date').text.strip()\n",
    "    results.append({'Article Title': title, 'Article Link': url, 'Article Date': date, 'Article Image': imgurl})\n",
    "    \n",
    "    \n",
    "for i in range(2, 11):\n",
    "    url = 'https://www.downtoearth.org.in/category/energy/news?page=' + str(i) + '&per-page=25'\n",
    "    response = requests.get(url)\n",
    "\n",
    "    soup = BeautifulSoup(response.content, 'html.parser')\n",
    "\n",
    "    articles = soup.find_all('div', class_='single-news-wrapper')\n",
    "    \n",
    "    for article in articles:\n",
    "        #article_title.append(article.find('p', class_ = 'content-head').text.strip())\n",
    "        #article_imgurl.append(article.find('img', class_ = 'content-preview')['src'])\n",
    "        #article_url.append(article.find('a')['href'])\n",
    "        #article_date.append(article.find('div', class_ = 'pull-left content-date').text.strip())\n",
    "        #results.append({'Article Title': article_title, 'Article Link': article_url, 'Article Date':article_date, 'Article Image': article_imgurl})\n",
    "        title = article.find('p', class_ = 'content-head').text.strip()\n",
    "        imgurl = article.find('img', class_ = 'content-preview')['src']\n",
    "        url = article.find('a')['href']\n",
    "        date = article.find('div', class_ = 'pull-left content-date').text.strip()\n",
    "        results.append({'Article Title': title, 'Article Link': url, 'Article Date': date, 'Article Image': imgurl})\n",
    "    \n",
    "# Store the results in an Excel file\n",
    "df = pd.DataFrame(results)\n",
    "df.to_excel('shell_today_app_data.xlsx', index=False)\n",
    "print('1')"
   ]
  },
  {
   "cell_type": "code",
   "execution_count": null,
   "id": "899dfdda",
   "metadata": {},
   "outputs": [],
   "source": []
  }
 ],
 "metadata": {
  "kernelspec": {
   "display_name": "Python 3 (ipykernel)",
   "language": "python",
   "name": "python3"
  },
  "language_info": {
   "codemirror_mode": {
    "name": "ipython",
    "version": 3
   },
   "file_extension": ".py",
   "mimetype": "text/x-python",
   "name": "python",
   "nbconvert_exporter": "python",
   "pygments_lexer": "ipython3",
   "version": "3.9.13"
  }
 },
 "nbformat": 4,
 "nbformat_minor": 5
}
